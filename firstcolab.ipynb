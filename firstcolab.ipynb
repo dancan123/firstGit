{
  "nbformat": 4,
  "nbformat_minor": 0,
  "metadata": {
    "colab": {
      "provenance": [],
      "authorship_tag": "ABX9TyPwKe+6MwbYp12AtRpAondw",
      "include_colab_link": true
    },
    "kernelspec": {
      "name": "python3",
      "display_name": "Python 3"
    },
    "language_info": {
      "name": "python"
    }
  },
  "cells": [
    {
      "cell_type": "markdown",
      "metadata": {
        "id": "view-in-github",
        "colab_type": "text"
      },
      "source": [
        "<a href=\"https://colab.research.google.com/github/dancan123/firstGit/blob/main/firstcolab.ipynb\" target=\"_parent\"><img src=\"https://colab.research.google.com/assets/colab-badge.svg\" alt=\"Open In Colab\"/></a>"
      ]
    },
    {
      "cell_type": "markdown",
      "source": [
        "## Introduction to First"
      ],
      "metadata": {
        "id": "36Mi-43gz-FD"
      }
    },
    {
      "cell_type": "code",
      "source": [],
      "metadata": {
        "id": "yzCsLzoC0BPI"
      },
      "execution_count": null,
      "outputs": []
    }
  ]
}